{
 "cells": [
  {
   "cell_type": "markdown",
   "metadata": {},
   "source": [
    "# Train Telecom Customer Churn Prediction with XGBoost"
   ]
  },
  {
   "cell_type": "markdown",
   "metadata": {},
   "source": [
    "This tutorial is based on [this](https://www.kaggle.com/pavanraj159/telecom-customer-churn-prediction/comments#6.-Model-Performances) Kaggle notebook and [this](https://github.com/gojek/feast/tree/master/examples/feast-xgboost-churn-prediction-tutorial) Feast notebook"
   ]
  },
  {
   "cell_type": "code",
   "execution_count": 2,
   "metadata": {},
   "outputs": [],
   "source": [
    "from hops import featurestore"
   ]
  },
  {
   "cell_type": "markdown",
   "metadata": {},
   "source": [
    "Create CSV Training Dataset:"
   ]
  },
  {
   "cell_type": "code",
   "execution_count": 19,
   "metadata": {},
   "outputs": [
    {
     "name": "stdout",
     "output_type": "stream",
     "text": [
      "Running sql: use xgboost_featurestore against offline feature store\n",
      "SQL string for the query created successfully\n",
      "Running sql: SELECT * FROM telcom_featuregroup_1 against offline feature store\n",
      "Training Dataset created successfully"
     ]
    }
   ],
   "source": [
    "df = featurestore.get_featuregroup(\"telcom_featuregroup\")\n",
    "df = df.coalesce(1)\n",
    "featurestore.create_training_dataset(df, \"telco_churn\", data_format='csv', descriptive_statistics=False, feature_correlation=False,\n",
    "                            feature_histograms=False, cluster_analysis=False)"
   ]
  },
  {
   "cell_type": "markdown",
   "metadata": {},
   "source": [
    "Instantiate Search Space:"
   ]
  },
  {
   "cell_type": "code",
   "execution_count": 42,
   "metadata": {},
   "outputs": [
    {
     "name": "stdout",
     "output_type": "stream",
     "text": [
      "Hyperparameter added: max_depth\n",
      "Hyperparameter added: learning_rate\n",
      "Hyperparameter added: gamma\n",
      "Hyperparameter added: reg_lambda"
     ]
    }
   ],
   "source": [
    "from maggy import Searchspace\n",
    "\n",
    "# The searchspace can be instantiated with parameters\n",
    "sp = Searchspace(max_depth=('INTEGER', [2, 50]), learning_rate=('DISCRETE', [0.9, 0.5, 0.2, 0.1, 0.01, 0.001]), gamma=('DOUBLE', [0, 5]), reg_lambda=('DOUBLE', [0, 5]))"
   ]
  },
  {
   "cell_type": "markdown",
   "metadata": {},
   "source": [
    "Define training logic in wrapper function:"
   ]
  },
  {
   "cell_type": "code",
   "execution_count": 47,
   "metadata": {
    "_cell_guid": "b1076dfc-b9ad-4769-8c92-a6c4dae69d19",
    "_kg_hide-input": false,
    "_uuid": "8f2839f25d086af736a60e9eeb907d3b93b6e0e5"
   },
   "outputs": [],
   "source": [
    "def train(max_depth, learning_rate, gamma, reg_lambda):\n",
    "    import pandas as pd\n",
    "    from hops import hdfs, featurestore\n",
    "    from hops import pandas_helper as pandas\n",
    "    import warnings\n",
    "    warnings.filterwarnings(\"ignore\")\n",
    "    from sklearn.model_selection import train_test_split\n",
    "    from sklearn.metrics import accuracy_score, classification_report\n",
    "    from xgboost import XGBClassifier\n",
    "    from torch.utils.tensorboard import SummaryWriter\n",
    "    from maggy import tensorboard\n",
    "\n",
    "    # Get path to training dataset\n",
    "    file_path = featurestore.get_training_dataset_path(\"telco_churn\")\n",
    "    telecom_df = pandas.read_csv(hdfs.get_plain_path([path for path in hdfs.ls(file_path) if \".csv\" in path][0]))\n",
    "    Id_col     = ['customer_id']\n",
    "    target_col = [\"churn\"]\n",
    "    \n",
    "    # Split into a train and test set\n",
    "    train, test = train_test_split(telecom_df,test_size = .25 ,random_state = 111)\n",
    "\n",
    "    # Seperating dependent and independent variables\n",
    "    cols    = [i for i in telecom_df.columns if i not in Id_col + target_col]\n",
    "    training_x = train[cols]\n",
    "    training_y = train[target_col]\n",
    "    testing_x  = test[cols]\n",
    "    testing_y  = test[target_col]    \n",
    "\n",
    "    # Instantiate classifier with hyperparameters as variables\n",
    "    model = XGBClassifier(base_score=0.5, booster='gbtree', colsample_bylevel=1,\n",
    "                          colsample_bytree=1, gamma=gamma, learning_rate=learning_rate, max_delta_step=0,\n",
    "                          max_depth=max_depth, min_child_weight=1, missing=None, n_estimators=100,\n",
    "                          n_jobs=1, nthread=None, objective='binary:logistic', random_state=0,\n",
    "                          reg_alpha=0, reg_lambda=reg_lambda, scale_pos_weight=1, seed=None,\n",
    "                          silent=True, subsample=1)\n",
    "\n",
    "    # Train model\n",
    "    model.fit(training_x, training_y)\n",
    "    predictions = model.predict(testing_x)\n",
    "    probabilities = model.predict_proba(testing_x)    \n",
    "    \n",
    "    coefficients = pd.DataFrame(model.feature_importances_)\n",
    "    column_df = pd.DataFrame(cols)\n",
    "    coef_sumry = (pd.merge(coefficients, column_df, left_index=True,\n",
    "                           right_index=True, how=\"left\"))\n",
    "    coef_sumry.columns = [\"coefficients\", \"features\"]\n",
    "    coef_sumry = coef_sumry.sort_values(by=\"coefficients\", ascending=False)\n",
    "\n",
    "    accuracy=accuracy_score(testing_y, predictions)\n",
    "\n",
    "    print(\"\\n Classification report : \\n\", classification_report(testing_y, predictions))\n",
    "    print(\"Accuracy   Score : \", accuracy)\n",
    "\n",
    "    # use any tensorboard writer\n",
    "    writer = SummaryWriter(tensorboard.logdir()+\"/validation\")\n",
    "    writer.add_scalar('epoch_acc', accuracy, 1)\n",
    "    writer.close()\n",
    "    \n",
    "    return accuracy"
   ]
  },
  {
   "cell_type": "code",
   "execution_count": 48,
   "metadata": {},
   "outputs": [
    {
     "data": {
      "application/vnd.jupyter.widget-view+json": {
       "model_id": "1afcb0ea4d2b4635841834f3500f7ad1",
       "version_major": 2,
       "version_minor": 0
      },
      "text/plain": [
       "HBox(children=(FloatProgress(value=0.0, description='Maggy experiment', max=10.0, style=ProgressStyle(descript…"
      ]
     },
     "metadata": {},
     "output_type": "display_data"
    },
    {
     "name": "stdout",
     "output_type": "stream",
     "text": [
      "0: \n",
      " Classification report : \n",
      "               precision    recall  f1-score   support\n",
      "\n",
      "           0       0.83      0.91      0.87      1282\n",
      "           1       0.67      0.50      0.57       476\n",
      "\n",
      "    accuracy                           0.80      1758\n",
      "   macro avg       0.75      0.70      0.72      1758\n",
      "weighted avg       0.79      0.80      0.79      1758\n",
      "\n",
      "0: Accuracy   Score :  0.7986348122866894\n",
      "1: \n",
      " Classification report : \n",
      "               precision    recall  f1-score   support\n",
      "\n",
      "           0       0.82      0.88      0.85      1282\n",
      "           1       0.60      0.49      0.54       476\n",
      "\n",
      "    accuracy                           0.77      1758\n",
      "   macro avg       0.71      0.68      0.69      1758\n",
      "weighted avg       0.76      0.77      0.77      1758\n",
      "\n",
      "1: Accuracy   Score :  0.7747440273037542\n",
      "0: \n",
      " Classification report : \n",
      "               precision    recall  f1-score   support\n",
      "\n",
      "           0       0.82      0.87      0.85      1282\n",
      "           1       0.59      0.49      0.54       476\n",
      "\n",
      "    accuracy                           0.77      1758\n",
      "   macro avg       0.71      0.68      0.69      1758\n",
      "weighted avg       0.76      0.77      0.76      1758\n",
      "\n",
      "0: Accuracy   Score :  0.770193401592719\n",
      "0: \n",
      " Classification report : \n",
      "               precision    recall  f1-score   support\n",
      "\n",
      "           0       0.83      0.91      0.87      1282\n",
      "           1       0.68      0.50      0.58       476\n",
      "\n",
      "    accuracy                           0.80      1758\n",
      "   macro avg       0.75      0.71      0.72      1758\n",
      "weighted avg       0.79      0.80      0.79      1758\n",
      "\n",
      "0: Accuracy   Score :  0.8003412969283277\n",
      "1: \n",
      " Classification report : \n",
      "               precision    recall  f1-score   support\n",
      "\n",
      "           0       0.83      0.91      0.86      1282\n",
      "           1       0.66      0.48      0.56       476\n",
      "\n",
      "    accuracy                           0.79      1758\n",
      "   macro avg       0.74      0.69      0.71      1758\n",
      "weighted avg       0.78      0.79      0.78      1758\n",
      "\n",
      "1: Accuracy   Score :  0.7929465301478953\n",
      "0: \n",
      " Classification report : \n",
      "               precision    recall  f1-score   support\n",
      "\n",
      "           0       0.83      0.90      0.86      1282\n",
      "           1       0.65      0.50      0.57       476\n",
      "\n",
      "    accuracy                           0.79      1758\n",
      "   macro avg       0.74      0.70      0.72      1758\n",
      "weighted avg       0.78      0.79      0.78      1758\n",
      "\n",
      "0: Accuracy   Score :  0.7923777019340159\n",
      "1: \n",
      " Classification report : \n",
      "               precision    recall  f1-score   support\n",
      "\n",
      "           0       0.82      0.90      0.86      1282\n",
      "           1       0.64      0.49      0.55       476\n",
      "\n",
      "    accuracy                           0.79      1758\n",
      "   macro avg       0.73      0.69      0.71      1758\n",
      "weighted avg       0.77      0.79      0.78      1758\n",
      "\n",
      "1: Accuracy   Score :  0.7861205915813424\n",
      "0: \n",
      " Classification report : \n",
      "               precision    recall  f1-score   support\n",
      "\n",
      "           0       0.83      0.90      0.87      1282\n",
      "           1       0.66      0.51      0.57       476\n",
      "\n",
      "    accuracy                           0.80      1758\n",
      "   macro avg       0.75      0.71      0.72      1758\n",
      "weighted avg       0.79      0.80      0.79      1758\n",
      "\n",
      "0: Accuracy   Score :  0.7969283276450512\n",
      "1: \n",
      " Classification report : \n",
      "               precision    recall  f1-score   support\n",
      "\n",
      "           0       0.82      0.86      0.84      1282\n",
      "           1       0.56      0.47      0.51       476\n",
      "\n",
      "    accuracy                           0.76      1758\n",
      "   macro avg       0.69      0.67      0.68      1758\n",
      "weighted avg       0.75      0.76      0.75      1758\n",
      "\n",
      "1: Accuracy   Score :  0.7571103526734926\n",
      "0: \n",
      " Classification report : \n",
      "               precision    recall  f1-score   support\n",
      "\n",
      "           0       0.83      0.88      0.86      1282\n",
      "           1       0.62      0.52      0.57       476\n",
      "\n",
      "    accuracy                           0.78      1758\n",
      "   macro avg       0.73      0.70      0.71      1758\n",
      "weighted avg       0.78      0.78      0.78      1758\n",
      "\n",
      "0: Accuracy   Score :  0.7844141069397043\n",
      "Started Maggy Experiment: CHURN, application_1588009407183_0018, run 10\n",
      "\n",
      "------ RandomSearch Results ------ direction(max) \n",
      "BEST combination {\"max_depth\": 9, \"learning_rate\": 0.1, \"gamma\": 3.9095232200712027, \"reg_lambda\": 3.8922677635749436} -- metric 0.8003412969283277\n",
      "WORST combination {\"max_depth\": 35, \"learning_rate\": 0.001, \"gamma\": 1.1325096931818517, \"reg_lambda\": 0.5838862207772438} -- metric 0.7571103526734926\n",
      "AVERAGE metric -- 0.7853811149032992\n",
      "EARLY STOPPED Trials -- 0\n",
      "Total job time 0 hours, 1 minutes, 1 seconds\n",
      "\n",
      "Finished Experiment\n"
     ]
    }
   ],
   "source": [
    "from maggy import experiment\n",
    "result = experiment.lagom(train, \n",
    "                           searchspace=sp, \n",
    "                           optimizer='randomsearch', \n",
    "                           direction='max',\n",
    "                           num_trials=10, \n",
    "                           name='CHURN',\n",
    "                           hb_interval=5, \n",
    "                           es_interval=5,\n",
    "                           es_min=5\n",
    "                          )"
   ]
  },
  {
   "cell_type": "code",
   "execution_count": null,
   "metadata": {},
   "outputs": [],
   "source": []
  }
 ],
 "metadata": {
  "kernelspec": {
   "display_name": "PySpark",
   "language": "python",
   "name": "pysparkkernel"
  },
  "language_info": {
   "codemirror_mode": {
    "name": "python",
    "version": 3
   },
   "mimetype": "text/x-python",
   "name": "pyspark",
   "pygments_lexer": "python3"
  },
  "pycharm": {
   "stem_cell": {
    "cell_type": "raw",
    "metadata": {
     "collapsed": false
    },
    "source": []
   }
  }
 },
 "nbformat": 4,
 "nbformat_minor": 4
}